{
 "cells": [
  {
   "cell_type": "code",
   "execution_count": 1,
   "metadata": {
    "colab": {
     "base_uri": "https://localhost:8080/",
     "height": 121
    },
    "colab_type": "code",
    "id": "g2PWCnKDT5NI",
    "outputId": "d3e0fce3-e871-4ee6-eaaa-e1c051a7a21e"
   },
   "outputs": [
    {
     "name": "stdout",
     "output_type": "stream",
     "text": [
      "Go to this URL in a browser: https://accounts.google.com/o/oauth2/auth?client_id=947318989803-6bn6qk8qdgf4n4g3pfee6491hc0brc4i.apps.googleusercontent.com&redirect_uri=urn%3aietf%3awg%3aoauth%3a2.0%3aoob&response_type=code&scope=email%20https%3a%2f%2fwww.googleapis.com%2fauth%2fdocs.test%20https%3a%2f%2fwww.googleapis.com%2fauth%2fdrive%20https%3a%2f%2fwww.googleapis.com%2fauth%2fdrive.photos.readonly%20https%3a%2f%2fwww.googleapis.com%2fauth%2fpeopleapi.readonly\n",
      "\n",
      "Enter your authorization code:\n",
      "··········\n",
      "Mounted at /content/drive\n"
     ]
    }
   ],
   "source": [
    "from google.colab import drive\n",
    "drive.mount('/content/drive')"
   ]
  },
  {
   "cell_type": "markdown",
   "metadata": {},
   "source": [
    "# Importing all necessary Libraries "
   ]
  },
  {
   "cell_type": "code",
   "execution_count": 2,
   "metadata": {
    "colab": {
     "base_uri": "https://localhost:8080/",
     "height": 79
    },
    "colab_type": "code",
    "id": "PlT4mjACT_XP",
    "outputId": "550d43c2-ee8b-4906-96a4-b3ec2bb0d734"
   },
   "outputs": [
    {
     "name": "stderr",
     "output_type": "stream",
     "text": [
      "Using TensorFlow backend.\n"
     ]
    },
    {
     "data": {
      "text/html": [
       "<p style=\"color: red;\">\n",
       "The default version of TensorFlow in Colab will soon switch to TensorFlow 2.x.<br>\n",
       "We recommend you <a href=\"https://www.tensorflow.org/guide/migrate\" target=\"_blank\">upgrade</a> now \n",
       "or ensure your notebook will continue to use TensorFlow 1.x via the <code>%tensorflow_version 1.x</code> magic:\n",
       "<a href=\"https://colab.research.google.com/notebooks/tensorflow_version.ipynb\" target=\"_blank\">more info</a>.</p>\n"
      ],
      "text/plain": [
       "<IPython.core.display.HTML object>"
      ]
     },
     "metadata": {
      "tags": []
     },
     "output_type": "display_data"
    }
   ],
   "source": [
    "import pandas as pd\n",
    "import numpy as np\n",
    "import matplotlib.pyplot as plt\n",
    "from pandas import datetime\n",
    "import warnings\n",
    "import keras\n",
    "from sklearn.model_selection import train_test_split\n",
    "from sklearn.decomposition import PCA\n",
    "from sklearn.preprocessing import StandardScaler\n",
    "from sklearn.preprocessing import LabelEncoder\n",
    "from sklearn.preprocessing import OneHotEncoder\n",
    "from keras.models import Sequential\n",
    "from keras.layers import Dense\n",
    "from keras.layers import LSTM\n",
    "from keras.layers import Activation\n",
    "from keras.layers import Dropout\n",
    "import tensorflow as tf\n",
    "warnings.simplefilter('ignore')"
   ]
  },
  {
   "cell_type": "code",
   "execution_count": 0,
   "metadata": {
    "colab": {},
    "colab_type": "code",
    "id": "v0wDUxzrUGHe"
   },
   "outputs": [],
   "source": [
    "data=pd.read_csv(\"/content/drive/My Drive/Colab Notebooks/Weather_data.csv\")"
   ]
  },
  {
   "cell_type": "code",
   "execution_count": 4,
   "metadata": {
    "colab": {
     "base_uri": "https://localhost:8080/",
     "height": 299
    },
    "colab_type": "code",
    "id": "8FFOyGrdUH1D",
    "outputId": "a7736d89-2435-4c2e-9a14-2ee643ece7c7"
   },
   "outputs": [
    {
     "data": {
      "text/html": [
       "<div>\n",
       "<style scoped>\n",
       "    .dataframe tbody tr th:only-of-type {\n",
       "        vertical-align: middle;\n",
       "    }\n",
       "\n",
       "    .dataframe tbody tr th {\n",
       "        vertical-align: top;\n",
       "    }\n",
       "\n",
       "    .dataframe thead th {\n",
       "        text-align: right;\n",
       "    }\n",
       "</style>\n",
       "<table border=\"1\" class=\"dataframe\">\n",
       "  <thead>\n",
       "    <tr style=\"text-align: right;\">\n",
       "      <th></th>\n",
       "      <th>datetime_utc</th>\n",
       "      <th>_conds</th>\n",
       "      <th>_dewptm</th>\n",
       "      <th>_fog</th>\n",
       "      <th>_hail</th>\n",
       "      <th>_heatindexm</th>\n",
       "      <th>_hum</th>\n",
       "      <th>_precipm</th>\n",
       "      <th>_pressurem</th>\n",
       "      <th>_rain</th>\n",
       "      <th>_snow</th>\n",
       "      <th>_tempm</th>\n",
       "      <th>_thunder</th>\n",
       "      <th>_tornado</th>\n",
       "      <th>_vism</th>\n",
       "      <th>_wdird</th>\n",
       "      <th>_wdire</th>\n",
       "      <th>_wgustm</th>\n",
       "      <th>_windchillm</th>\n",
       "      <th>_wspdm</th>\n",
       "    </tr>\n",
       "  </thead>\n",
       "  <tbody>\n",
       "    <tr>\n",
       "      <th>0</th>\n",
       "      <td>19961101-11:00</td>\n",
       "      <td>Smoke</td>\n",
       "      <td>9.0</td>\n",
       "      <td>0</td>\n",
       "      <td>0</td>\n",
       "      <td>NaN</td>\n",
       "      <td>27.0</td>\n",
       "      <td>NaN</td>\n",
       "      <td>1010.0</td>\n",
       "      <td>0</td>\n",
       "      <td>0</td>\n",
       "      <td>30.0</td>\n",
       "      <td>0</td>\n",
       "      <td>0</td>\n",
       "      <td>5.0</td>\n",
       "      <td>280.0</td>\n",
       "      <td>West</td>\n",
       "      <td>NaN</td>\n",
       "      <td>NaN</td>\n",
       "      <td>7.4</td>\n",
       "    </tr>\n",
       "    <tr>\n",
       "      <th>1</th>\n",
       "      <td>19961101-12:00</td>\n",
       "      <td>Smoke</td>\n",
       "      <td>10.0</td>\n",
       "      <td>0</td>\n",
       "      <td>0</td>\n",
       "      <td>NaN</td>\n",
       "      <td>32.0</td>\n",
       "      <td>NaN</td>\n",
       "      <td>-9999.0</td>\n",
       "      <td>0</td>\n",
       "      <td>0</td>\n",
       "      <td>28.0</td>\n",
       "      <td>0</td>\n",
       "      <td>0</td>\n",
       "      <td>NaN</td>\n",
       "      <td>0.0</td>\n",
       "      <td>North</td>\n",
       "      <td>NaN</td>\n",
       "      <td>NaN</td>\n",
       "      <td>NaN</td>\n",
       "    </tr>\n",
       "    <tr>\n",
       "      <th>2</th>\n",
       "      <td>19961101-13:00</td>\n",
       "      <td>Smoke</td>\n",
       "      <td>11.0</td>\n",
       "      <td>0</td>\n",
       "      <td>0</td>\n",
       "      <td>NaN</td>\n",
       "      <td>44.0</td>\n",
       "      <td>NaN</td>\n",
       "      <td>-9999.0</td>\n",
       "      <td>0</td>\n",
       "      <td>0</td>\n",
       "      <td>24.0</td>\n",
       "      <td>0</td>\n",
       "      <td>0</td>\n",
       "      <td>NaN</td>\n",
       "      <td>0.0</td>\n",
       "      <td>North</td>\n",
       "      <td>NaN</td>\n",
       "      <td>NaN</td>\n",
       "      <td>NaN</td>\n",
       "    </tr>\n",
       "    <tr>\n",
       "      <th>3</th>\n",
       "      <td>19961101-14:00</td>\n",
       "      <td>Smoke</td>\n",
       "      <td>10.0</td>\n",
       "      <td>0</td>\n",
       "      <td>0</td>\n",
       "      <td>NaN</td>\n",
       "      <td>41.0</td>\n",
       "      <td>NaN</td>\n",
       "      <td>1010.0</td>\n",
       "      <td>0</td>\n",
       "      <td>0</td>\n",
       "      <td>24.0</td>\n",
       "      <td>0</td>\n",
       "      <td>0</td>\n",
       "      <td>2.0</td>\n",
       "      <td>0.0</td>\n",
       "      <td>North</td>\n",
       "      <td>NaN</td>\n",
       "      <td>NaN</td>\n",
       "      <td>NaN</td>\n",
       "    </tr>\n",
       "    <tr>\n",
       "      <th>4</th>\n",
       "      <td>19961101-16:00</td>\n",
       "      <td>Smoke</td>\n",
       "      <td>11.0</td>\n",
       "      <td>0</td>\n",
       "      <td>0</td>\n",
       "      <td>NaN</td>\n",
       "      <td>47.0</td>\n",
       "      <td>NaN</td>\n",
       "      <td>1011.0</td>\n",
       "      <td>0</td>\n",
       "      <td>0</td>\n",
       "      <td>23.0</td>\n",
       "      <td>0</td>\n",
       "      <td>0</td>\n",
       "      <td>1.2</td>\n",
       "      <td>0.0</td>\n",
       "      <td>North</td>\n",
       "      <td>NaN</td>\n",
       "      <td>NaN</td>\n",
       "      <td>0.0</td>\n",
       "    </tr>\n",
       "  </tbody>\n",
       "</table>\n",
       "</div>"
      ],
      "text/plain": [
       "     datetime_utc  _conds   _dewptm  ...   _wgustm   _windchillm   _wspdm\n",
       "0  19961101-11:00   Smoke       9.0  ...       NaN           NaN      7.4\n",
       "1  19961101-12:00   Smoke      10.0  ...       NaN           NaN      NaN\n",
       "2  19961101-13:00   Smoke      11.0  ...       NaN           NaN      NaN\n",
       "3  19961101-14:00   Smoke      10.0  ...       NaN           NaN      NaN\n",
       "4  19961101-16:00   Smoke      11.0  ...       NaN           NaN      0.0\n",
       "\n",
       "[5 rows x 20 columns]"
      ]
     },
     "execution_count": 4,
     "metadata": {
      "tags": []
     },
     "output_type": "execute_result"
    }
   ],
   "source": [
    "data.head()"
   ]
  },
  {
   "cell_type": "markdown",
   "metadata": {},
   "source": [
    "# Data Preprocessing"
   ]
  },
  {
   "cell_type": "code",
   "execution_count": 41,
   "metadata": {
    "colab": {},
    "colab_type": "code",
    "id": "Ca4yhelRUKYp"
   },
   "outputs": [],
   "source": [
    "data['time']=pd.to_datetime(data['datetime_utc'])\n",
    "data.drop(\"datetime_utc\",inplace=True,axis=1)"
   ]
  },
  {
   "cell_type": "code",
   "execution_count": 42,
   "metadata": {
    "colab": {},
    "colab_type": "code",
    "id": "-eX_hOU7UQTr"
   },
   "outputs": [],
   "source": [
    "data.set_index('time',inplace=True)"
   ]
  },
  {
   "cell_type": "markdown",
   "metadata": {},
   "source": [
    "# Drop all the unnecessary columns"
   ]
  },
  {
   "cell_type": "code",
   "execution_count": 43,
   "metadata": {
    "colab": {},
    "colab_type": "code",
    "id": "EwGG3Q7HUS4z"
   },
   "outputs": [],
   "source": [
    "data.drop([\" _wgustm\",\" _precipm\"],axis=1,inplace=True)\n",
    "data.drop([' _windchillm'],axis=1,inplace=True)\n",
    "data.drop([\" _heatindexm\"],axis=1,inplace=True)\n",
    "data=data[data[\" _conds\"]!=\"Unknown\"]"
   ]
  },
  {
   "cell_type": "code",
   "execution_count": 44,
   "metadata": {
    "colab": {
     "base_uri": "https://localhost:8080/",
     "height": 286
    },
    "colab_type": "code",
    "id": "sr54QsnrUWS9",
    "outputId": "2b39b582-c2f0-422d-f2e7-8d8f4e152096"
   },
   "outputs": [
    {
     "data": {
      "text/plain": [
       " _conds           68\n",
       " _dewptm         517\n",
       " _fog              0\n",
       " _hail             0\n",
       " _hum            645\n",
       " _pressurem      231\n",
       " _rain             0\n",
       " _snow             0\n",
       " _tempm          567\n",
       " _thunder          0\n",
       " _tornado          0\n",
       " _vism          4320\n",
       " _wdird        14380\n",
       " _wdire        14380\n",
       " _wspdm         2313\n",
       "dtype: int64"
      ]
     },
     "execution_count": 44,
     "metadata": {},
     "output_type": "execute_result"
    }
   ],
   "source": [
    "data.isnull().sum()"
   ]
  },
  {
   "cell_type": "code",
   "execution_count": 45,
   "metadata": {
    "colab": {},
    "colab_type": "code",
    "id": "sWpv_eU2UYRY"
   },
   "outputs": [],
   "source": [
    "data.fillna(0,inplace=True) #filling 0 in place of nan values "
   ]
  },
  {
   "cell_type": "code",
   "execution_count": 46,
   "metadata": {
    "colab": {
     "base_uri": "https://localhost:8080/",
     "height": 286
    },
    "colab_type": "code",
    "id": "D2aZn8oXUcmr",
    "outputId": "aaf054ac-2b6d-4c50-9e5d-62236b7ad08b"
   },
   "outputs": [
    {
     "data": {
      "text/plain": [
       " _conds        0\n",
       " _dewptm       0\n",
       " _fog          0\n",
       " _hail         0\n",
       " _hum          0\n",
       " _pressurem    0\n",
       " _rain         0\n",
       " _snow         0\n",
       " _tempm        0\n",
       " _thunder      0\n",
       " _tornado      0\n",
       " _vism         0\n",
       " _wdird        0\n",
       " _wdire        0\n",
       " _wspdm        0\n",
       "dtype: int64"
      ]
     },
     "execution_count": 46,
     "metadata": {},
     "output_type": "execute_result"
    }
   ],
   "source": [
    "data.isnull().sum()"
   ]
  },
  {
   "cell_type": "markdown",
   "metadata": {},
   "source": [
    "# Feature Engineering"
   ]
  },
  {
   "cell_type": "markdown",
   "metadata": {},
   "source": [
    "# One hot encoding"
   ]
  },
  {
   "cell_type": "code",
   "execution_count": 56,
   "metadata": {
    "colab": {},
    "colab_type": "code",
    "id": "Z9fMYHzVUshZ"
   },
   "outputs": [],
   "source": [
    "condition=pd.get_dummies(data[' _conds'])  \n",
    "wind_dir=pd.get_dummies(data[' _wdire'])"
   ]
  },
  {
   "cell_type": "code",
   "execution_count": 57,
   "metadata": {},
   "outputs": [],
   "source": [
    "condition.drop('Widespread Dust',axis=1,inplace=True)\n",
    "wind_dir.drop('West',axis=1,inplace=True)"
   ]
  },
  {
   "cell_type": "code",
   "execution_count": 62,
   "metadata": {},
   "outputs": [],
   "source": [
    "data=pd.concat([data,condition],axis='columns')"
   ]
  },
  {
   "cell_type": "code",
   "execution_count": 63,
   "metadata": {},
   "outputs": [],
   "source": [
    "data=pd.concat([data,wind_dir],axis='columns')"
   ]
  },
  {
   "cell_type": "code",
   "execution_count": 65,
   "metadata": {
    "colab": {},
    "colab_type": "code",
    "id": "AiNb7kDVWpfx"
   },
   "outputs": [
    {
     "data": {
      "text/html": [
       "<div>\n",
       "<style scoped>\n",
       "    .dataframe tbody tr th:only-of-type {\n",
       "        vertical-align: middle;\n",
       "    }\n",
       "\n",
       "    .dataframe tbody tr th {\n",
       "        vertical-align: top;\n",
       "    }\n",
       "\n",
       "    .dataframe thead th {\n",
       "        text-align: right;\n",
       "    }\n",
       "</style>\n",
       "<table border=\"1\" class=\"dataframe\">\n",
       "  <thead>\n",
       "    <tr style=\"text-align: right;\">\n",
       "      <th></th>\n",
       "      <th>_conds</th>\n",
       "      <th>_dewptm</th>\n",
       "      <th>_fog</th>\n",
       "      <th>_hail</th>\n",
       "      <th>_hum</th>\n",
       "      <th>_pressurem</th>\n",
       "      <th>_rain</th>\n",
       "      <th>_snow</th>\n",
       "      <th>_tempm</th>\n",
       "      <th>_thunder</th>\n",
       "      <th>...</th>\n",
       "      <th>NW</th>\n",
       "      <th>North</th>\n",
       "      <th>SE</th>\n",
       "      <th>SSE</th>\n",
       "      <th>SSW</th>\n",
       "      <th>SW</th>\n",
       "      <th>South</th>\n",
       "      <th>Variable</th>\n",
       "      <th>WNW</th>\n",
       "      <th>WSW</th>\n",
       "    </tr>\n",
       "    <tr>\n",
       "      <th>time</th>\n",
       "      <th></th>\n",
       "      <th></th>\n",
       "      <th></th>\n",
       "      <th></th>\n",
       "      <th></th>\n",
       "      <th></th>\n",
       "      <th></th>\n",
       "      <th></th>\n",
       "      <th></th>\n",
       "      <th></th>\n",
       "      <th></th>\n",
       "      <th></th>\n",
       "      <th></th>\n",
       "      <th></th>\n",
       "      <th></th>\n",
       "      <th></th>\n",
       "      <th></th>\n",
       "      <th></th>\n",
       "      <th></th>\n",
       "      <th></th>\n",
       "      <th></th>\n",
       "    </tr>\n",
       "  </thead>\n",
       "  <tbody>\n",
       "    <tr>\n",
       "      <td>1996-11-01 11:00:00</td>\n",
       "      <td>Smoke</td>\n",
       "      <td>9.0</td>\n",
       "      <td>0</td>\n",
       "      <td>0</td>\n",
       "      <td>27.0</td>\n",
       "      <td>1010.0</td>\n",
       "      <td>0</td>\n",
       "      <td>0</td>\n",
       "      <td>30.0</td>\n",
       "      <td>0</td>\n",
       "      <td>...</td>\n",
       "      <td>0</td>\n",
       "      <td>0</td>\n",
       "      <td>0</td>\n",
       "      <td>0</td>\n",
       "      <td>0</td>\n",
       "      <td>0</td>\n",
       "      <td>0</td>\n",
       "      <td>0</td>\n",
       "      <td>0</td>\n",
       "      <td>0</td>\n",
       "    </tr>\n",
       "    <tr>\n",
       "      <td>1996-11-01 12:00:00</td>\n",
       "      <td>Smoke</td>\n",
       "      <td>10.0</td>\n",
       "      <td>0</td>\n",
       "      <td>0</td>\n",
       "      <td>32.0</td>\n",
       "      <td>-9999.0</td>\n",
       "      <td>0</td>\n",
       "      <td>0</td>\n",
       "      <td>28.0</td>\n",
       "      <td>0</td>\n",
       "      <td>...</td>\n",
       "      <td>0</td>\n",
       "      <td>1</td>\n",
       "      <td>0</td>\n",
       "      <td>0</td>\n",
       "      <td>0</td>\n",
       "      <td>0</td>\n",
       "      <td>0</td>\n",
       "      <td>0</td>\n",
       "      <td>0</td>\n",
       "      <td>0</td>\n",
       "    </tr>\n",
       "    <tr>\n",
       "      <td>1996-11-01 13:00:00</td>\n",
       "      <td>Smoke</td>\n",
       "      <td>11.0</td>\n",
       "      <td>0</td>\n",
       "      <td>0</td>\n",
       "      <td>44.0</td>\n",
       "      <td>-9999.0</td>\n",
       "      <td>0</td>\n",
       "      <td>0</td>\n",
       "      <td>24.0</td>\n",
       "      <td>0</td>\n",
       "      <td>...</td>\n",
       "      <td>0</td>\n",
       "      <td>1</td>\n",
       "      <td>0</td>\n",
       "      <td>0</td>\n",
       "      <td>0</td>\n",
       "      <td>0</td>\n",
       "      <td>0</td>\n",
       "      <td>0</td>\n",
       "      <td>0</td>\n",
       "      <td>0</td>\n",
       "    </tr>\n",
       "    <tr>\n",
       "      <td>1996-11-01 14:00:00</td>\n",
       "      <td>Smoke</td>\n",
       "      <td>10.0</td>\n",
       "      <td>0</td>\n",
       "      <td>0</td>\n",
       "      <td>41.0</td>\n",
       "      <td>1010.0</td>\n",
       "      <td>0</td>\n",
       "      <td>0</td>\n",
       "      <td>24.0</td>\n",
       "      <td>0</td>\n",
       "      <td>...</td>\n",
       "      <td>0</td>\n",
       "      <td>1</td>\n",
       "      <td>0</td>\n",
       "      <td>0</td>\n",
       "      <td>0</td>\n",
       "      <td>0</td>\n",
       "      <td>0</td>\n",
       "      <td>0</td>\n",
       "      <td>0</td>\n",
       "      <td>0</td>\n",
       "    </tr>\n",
       "    <tr>\n",
       "      <td>1996-11-01 16:00:00</td>\n",
       "      <td>Smoke</td>\n",
       "      <td>11.0</td>\n",
       "      <td>0</td>\n",
       "      <td>0</td>\n",
       "      <td>47.0</td>\n",
       "      <td>1011.0</td>\n",
       "      <td>0</td>\n",
       "      <td>0</td>\n",
       "      <td>23.0</td>\n",
       "      <td>0</td>\n",
       "      <td>...</td>\n",
       "      <td>0</td>\n",
       "      <td>1</td>\n",
       "      <td>0</td>\n",
       "      <td>0</td>\n",
       "      <td>0</td>\n",
       "      <td>0</td>\n",
       "      <td>0</td>\n",
       "      <td>0</td>\n",
       "      <td>0</td>\n",
       "      <td>0</td>\n",
       "    </tr>\n",
       "  </tbody>\n",
       "</table>\n",
       "<p>5 rows × 70 columns</p>\n",
       "</div>"
      ],
      "text/plain": [
       "                     _conds   _dewptm   _fog   _hail   _hum   _pressurem  \\\n",
       "time                                                                       \n",
       "1996-11-01 11:00:00   Smoke       9.0      0       0   27.0       1010.0   \n",
       "1996-11-01 12:00:00   Smoke      10.0      0       0   32.0      -9999.0   \n",
       "1996-11-01 13:00:00   Smoke      11.0      0       0   44.0      -9999.0   \n",
       "1996-11-01 14:00:00   Smoke      10.0      0       0   41.0       1010.0   \n",
       "1996-11-01 16:00:00   Smoke      11.0      0       0   47.0       1011.0   \n",
       "\n",
       "                      _rain   _snow   _tempm   _thunder  ...  NW  North  SE  \\\n",
       "time                                                     ...                  \n",
       "1996-11-01 11:00:00       0       0     30.0          0  ...   0      0   0   \n",
       "1996-11-01 12:00:00       0       0     28.0          0  ...   0      1   0   \n",
       "1996-11-01 13:00:00       0       0     24.0          0  ...   0      1   0   \n",
       "1996-11-01 14:00:00       0       0     24.0          0  ...   0      1   0   \n",
       "1996-11-01 16:00:00       0       0     23.0          0  ...   0      1   0   \n",
       "\n",
       "                    SSE  SSW  SW  South  Variable  WNW  WSW  \n",
       "time                                                         \n",
       "1996-11-01 11:00:00   0    0   0      0         0    0    0  \n",
       "1996-11-01 12:00:00   0    0   0      0         0    0    0  \n",
       "1996-11-01 13:00:00   0    0   0      0         0    0    0  \n",
       "1996-11-01 14:00:00   0    0   0      0         0    0    0  \n",
       "1996-11-01 16:00:00   0    0   0      0         0    0    0  \n",
       "\n",
       "[5 rows x 70 columns]"
      ]
     },
     "execution_count": 65,
     "metadata": {},
     "output_type": "execute_result"
    }
   ],
   "source": [
    "data.head()"
   ]
  },
  {
   "cell_type": "code",
   "execution_count": 66,
   "metadata": {},
   "outputs": [
    {
     "data": {
      "text/plain": [
       "(98535, 70)"
      ]
     },
     "execution_count": 66,
     "metadata": {},
     "output_type": "execute_result"
    }
   ],
   "source": [
    "data.shape"
   ]
  },
  {
   "cell_type": "code",
   "execution_count": 0,
   "metadata": {
    "colab": {},
    "colab_type": "code",
    "id": "oCVIP3gSbj3d"
   },
   "outputs": [],
   "source": [
    "data.drop([' _conds',' _wdire'],axis=1,inplace=True)#dropping these 2 columns "
   ]
  },
  {
   "cell_type": "code",
   "execution_count": 0,
   "metadata": {
    "colab": {},
    "colab_type": "code",
    "id": "JxgFHWDmbuHA"
   },
   "outputs": [],
   "source": [
    "X=data.drop([' _tempm'],axis=1)"
   ]
  },
  {
   "cell_type": "code",
   "execution_count": 0,
   "metadata": {
    "colab": {},
    "colab_type": "code",
    "id": "M5UYVjH-b2pB"
   },
   "outputs": [],
   "source": [
    "y=data[' _tempm'].values"
   ]
  },
  {
   "cell_type": "markdown",
   "metadata": {},
   "source": [
    " # Standard Scaling"
   ]
  },
  {
   "cell_type": "code",
   "execution_count": 0,
   "metadata": {
    "colab": {},
    "colab_type": "code",
    "id": "8SO2ehAYb6XO"
   },
   "outputs": [],
   "source": [
    "st=StandardScaler()"
   ]
  },
  {
   "cell_type": "code",
   "execution_count": 0,
   "metadata": {
    "colab": {},
    "colab_type": "code",
    "id": "jZiEci2PcBck"
   },
   "outputs": [],
   "source": [
    "final_x=st.fit_transform(X)\n",
    "final_y=st.fit_transform(y.reshape(-1,1))"
   ]
  },
  {
   "cell_type": "markdown",
   "metadata": {},
   "source": [
    "# Reshaping the data"
   ]
  },
  {
   "cell_type": "code",
   "execution_count": 0,
   "metadata": {
    "colab": {},
    "colab_type": "code",
    "id": "hvWdkZPfcNSQ"
   },
   "outputs": [],
   "source": [
    "X=np.reshape(final_x,(final_x.shape[0],final_x.shape[1],1))"
   ]
  },
  {
   "cell_type": "markdown",
   "metadata": {},
   "source": [
    "# Splitting the dataset into train and test data"
   ]
  },
  {
   "cell_type": "code",
   "execution_count": 0,
   "metadata": {
    "colab": {},
    "colab_type": "code",
    "id": "hNM5EAO5dBZ1"
   },
   "outputs": [],
   "source": [
    "X_train,X_test,y_train,y_test=train_test_split(X,final_y,random_state=45,test_size=0.2)"
   ]
  },
  {
   "cell_type": "code",
   "execution_count": 23,
   "metadata": {
    "colab": {
     "base_uri": "https://localhost:8080/",
     "height": 34
    },
    "colab_type": "code",
    "id": "JUkmPShrdLdG",
    "outputId": "34dd6867-a2ed-465e-a8ad-76a41de0d191"
   },
   "outputs": [
    {
     "data": {
      "text/plain": [
       "(19707, 1)"
      ]
     },
     "execution_count": 23,
     "metadata": {
      "tags": []
     },
     "output_type": "execute_result"
    }
   ],
   "source": [
    "y_test.shape"
   ]
  },
  {
   "cell_type": "markdown",
   "metadata": {},
   "source": [
    "# Creating model "
   ]
  },
  {
   "cell_type": "code",
   "execution_count": 24,
   "metadata": {
    "colab": {
     "base_uri": "https://localhost:8080/",
     "height": 255
    },
    "colab_type": "code",
    "id": "bMQXNqlicPaa",
    "outputId": "ba4e7738-7367-43d4-ee83-ef7bbed28715"
   },
   "outputs": [
    {
     "name": "stdout",
     "output_type": "stream",
     "text": [
      "WARNING:tensorflow:From /usr/local/lib/python3.6/dist-packages/keras/backend/tensorflow_backend.py:66: The name tf.get_default_graph is deprecated. Please use tf.compat.v1.get_default_graph instead.\n",
      "\n",
      "WARNING:tensorflow:From /usr/local/lib/python3.6/dist-packages/keras/backend/tensorflow_backend.py:541: The name tf.placeholder is deprecated. Please use tf.compat.v1.placeholder instead.\n",
      "\n",
      "WARNING:tensorflow:From /usr/local/lib/python3.6/dist-packages/keras/backend/tensorflow_backend.py:4432: The name tf.random_uniform is deprecated. Please use tf.random.uniform instead.\n",
      "\n",
      "WARNING:tensorflow:From /usr/local/lib/python3.6/dist-packages/keras/backend/tensorflow_backend.py:148: The name tf.placeholder_with_default is deprecated. Please use tf.compat.v1.placeholder_with_default instead.\n",
      "\n",
      "WARNING:tensorflow:From /usr/local/lib/python3.6/dist-packages/keras/backend/tensorflow_backend.py:3733: calling dropout (from tensorflow.python.ops.nn_ops) with keep_prob is deprecated and will be removed in a future version.\n",
      "Instructions for updating:\n",
      "Please use `rate` instead of `keep_prob`. Rate should be set to `rate = 1 - keep_prob`.\n",
      "WARNING:tensorflow:From /usr/local/lib/python3.6/dist-packages/keras/optimizers.py:793: The name tf.train.Optimizer is deprecated. Please use tf.compat.v1.train.Optimizer instead.\n",
      "\n"
     ]
    }
   ],
   "source": [
    "#intializing the model\n",
    "model = Sequential() \n",
    "\n",
    "#adding a lstm layer and some dropout regularisation units means number of neuron\n",
    "model.add(LSTM(50,return_sequences=True,input_shape=(X_train.shape[1], X_train.shape[2])))\n",
    "model.add(Dropout(0.2))\n",
    "\n",
    "#adding a second layer of lstm with some dropout regularisation\n",
    "model.add(LSTM(50,return_sequences=True))\n",
    "model.add(Dropout(0.2))\n",
    "#adding a third  layer of lstm \n",
    "model.add(LSTM(20))\n",
    "model.add(Dense(1))\n",
    "model.compile(loss='mse', optimizer='adam')\n"
   ]
  },
  {
   "cell_type": "code",
   "execution_count": 0,
   "metadata": {
    "colab": {},
    "colab_type": "code",
    "id": "26YlUHeZjG-O"
   },
   "outputs": [],
   "source": [
    "checkpoint_path=\"/content/drive/My Drive/Colab Notebooks/Temp_analysis/model2_checkpoint.ckpt\"\n",
    "checkpoint_callback= keras.callbacks.ModelCheckpoint(checkpoint_path,\n",
    "                            monitor='val_acc',\n",
    "                            verbose=1,\n",
    "                            save_best_only=True,\n",
    "                            )\n",
    "early_checkpoints=keras.callbacks.EarlyStopping(monitor='val_loss', \n",
    "                                                          patience=4, \n",
    "                                                          verbose=1,\n",
    "                                                          mode='auto',\n",
    "                                                          restore_best_weights=False)"
   ]
  },
  {
   "cell_type": "markdown",
   "metadata": {},
   "source": [
    "# Model fitting"
   ]
  },
  {
   "cell_type": "code",
   "execution_count": 26,
   "metadata": {
    "colab": {
     "base_uri": "https://localhost:8080/",
     "height": 1000
    },
    "colab_type": "code",
    "id": "aOxM1yPijDYq",
    "outputId": "f8b1bf98-7110-4a81-a918-c176faf1914c"
   },
   "outputs": [
    {
     "name": "stdout",
     "output_type": "stream",
     "text": [
      "WARNING:tensorflow:From /usr/local/lib/python3.6/dist-packages/tensorflow_core/python/ops/math_grad.py:1424: where (from tensorflow.python.ops.array_ops) is deprecated and will be removed in a future version.\n",
      "Instructions for updating:\n",
      "Use tf.where in 2.0, which has the same broadcast rule as np.where\n",
      "WARNING:tensorflow:From /usr/local/lib/python3.6/dist-packages/keras/backend/tensorflow_backend.py:1033: The name tf.assign_add is deprecated. Please use tf.compat.v1.assign_add instead.\n",
      "\n",
      "WARNING:tensorflow:From /usr/local/lib/python3.6/dist-packages/keras/backend/tensorflow_backend.py:1020: The name tf.assign is deprecated. Please use tf.compat.v1.assign instead.\n",
      "\n",
      "WARNING:tensorflow:From /usr/local/lib/python3.6/dist-packages/keras/backend/tensorflow_backend.py:3005: The name tf.Session is deprecated. Please use tf.compat.v1.Session instead.\n",
      "\n",
      "Train on 78828 samples, validate on 19707 samples\n",
      "Epoch 1/50\n",
      "WARNING:tensorflow:From /usr/local/lib/python3.6/dist-packages/keras/backend/tensorflow_backend.py:190: The name tf.get_default_session is deprecated. Please use tf.compat.v1.get_default_session instead.\n",
      "\n",
      "WARNING:tensorflow:From /usr/local/lib/python3.6/dist-packages/keras/backend/tensorflow_backend.py:197: The name tf.ConfigProto is deprecated. Please use tf.compat.v1.ConfigProto instead.\n",
      "\n",
      "WARNING:tensorflow:From /usr/local/lib/python3.6/dist-packages/keras/backend/tensorflow_backend.py:207: The name tf.global_variables is deprecated. Please use tf.compat.v1.global_variables instead.\n",
      "\n",
      "WARNING:tensorflow:From /usr/local/lib/python3.6/dist-packages/keras/backend/tensorflow_backend.py:216: The name tf.is_variable_initialized is deprecated. Please use tf.compat.v1.is_variable_initialized instead.\n",
      "\n",
      "WARNING:tensorflow:From /usr/local/lib/python3.6/dist-packages/keras/backend/tensorflow_backend.py:223: The name tf.variables_initializer is deprecated. Please use tf.compat.v1.variables_initializer instead.\n",
      "\n",
      " - 88s - loss: 0.1738 - val_loss: 0.0957\n",
      "Epoch 2/50\n",
      " - 87s - loss: 0.0768 - val_loss: 0.0589\n",
      "Epoch 3/50\n",
      " - 87s - loss: 0.0600 - val_loss: 0.0496\n",
      "Epoch 4/50\n",
      " - 87s - loss: 0.0558 - val_loss: 0.0464\n",
      "Epoch 5/50\n",
      " - 87s - loss: 0.0538 - val_loss: 0.0465\n",
      "Epoch 6/50\n",
      " - 87s - loss: 0.0478 - val_loss: 0.0449\n",
      "Epoch 7/50\n",
      " - 88s - loss: 0.0542 - val_loss: 0.0443\n",
      "Epoch 8/50\n",
      " - 87s - loss: 0.0487 - val_loss: 0.0437\n",
      "Epoch 9/50\n",
      " - 87s - loss: 0.0453 - val_loss: 0.0435\n",
      "Epoch 10/50\n",
      " - 87s - loss: 0.0428 - val_loss: 0.0412\n",
      "Epoch 11/50\n",
      " - 87s - loss: 0.0491 - val_loss: 0.0430\n",
      "Epoch 12/50\n",
      " - 88s - loss: 0.0416 - val_loss: 0.0410\n",
      "Epoch 13/50\n",
      " - 87s - loss: 0.0419 - val_loss: 0.0390\n",
      "Epoch 14/50\n",
      " - 88s - loss: 0.0431 - val_loss: 0.0395\n",
      "Epoch 15/50\n",
      " - 87s - loss: 0.0390 - val_loss: 0.0404\n",
      "Epoch 16/50\n",
      " - 87s - loss: 0.0419 - val_loss: 0.0365\n",
      "Epoch 17/50\n",
      " - 88s - loss: 0.0434 - val_loss: 0.0374\n",
      "Epoch 18/50\n",
      " - 87s - loss: 0.0391 - val_loss: 0.0367\n",
      "Epoch 19/50\n",
      " - 88s - loss: 0.0401 - val_loss: 0.0400\n",
      "Epoch 20/50\n",
      " - 87s - loss: 0.0362 - val_loss: 0.0361\n",
      "Epoch 21/50\n",
      " - 88s - loss: 0.0419 - val_loss: 0.0366\n",
      "Epoch 22/50\n",
      " - 87s - loss: 0.0368 - val_loss: 0.0362\n",
      "Epoch 23/50\n",
      " - 87s - loss: 0.0367 - val_loss: 0.0357\n",
      "Epoch 24/50\n",
      " - 87s - loss: 0.0349 - val_loss: 0.0356\n",
      "Epoch 25/50\n",
      " - 87s - loss: 0.0358 - val_loss: 0.0341\n",
      "Epoch 26/50\n",
      " - 87s - loss: 0.0364 - val_loss: 0.0359\n",
      "Epoch 27/50\n",
      " - 87s - loss: 0.0363 - val_loss: 0.0335\n",
      "Epoch 28/50\n",
      " - 87s - loss: 0.0355 - val_loss: 0.0339\n",
      "Epoch 29/50\n",
      " - 87s - loss: 0.0312 - val_loss: 0.0328\n",
      "Epoch 30/50\n",
      " - 87s - loss: 0.0325 - val_loss: 0.0331\n",
      "Epoch 31/50\n",
      " - 87s - loss: 0.0353 - val_loss: 0.0327\n",
      "Epoch 32/50\n",
      " - 87s - loss: 0.0327 - val_loss: 0.0322\n",
      "Epoch 33/50\n",
      " - 87s - loss: 0.0336 - val_loss: 0.0320\n",
      "Epoch 34/50\n",
      " - 87s - loss: 0.0313 - val_loss: 0.0316\n",
      "Epoch 35/50\n",
      " - 87s - loss: 0.0390 - val_loss: 0.0436\n",
      "Epoch 36/50\n",
      " - 88s - loss: 0.0309 - val_loss: 0.0320\n",
      "Epoch 37/50\n",
      " - 88s - loss: 0.0295 - val_loss: 0.0313\n",
      "Epoch 38/50\n",
      " - 88s - loss: 0.0333 - val_loss: 0.0306\n",
      "Epoch 39/50\n",
      " - 88s - loss: 0.0311 - val_loss: 0.0299\n",
      "Epoch 40/50\n",
      " - 88s - loss: 0.0310 - val_loss: 0.0313\n",
      "Epoch 41/50\n",
      " - 87s - loss: 0.0295 - val_loss: 0.0304\n",
      "Epoch 42/50\n",
      " - 88s - loss: 0.0273 - val_loss: 0.0298\n",
      "Epoch 43/50\n",
      " - 88s - loss: 0.0366 - val_loss: 0.0297\n",
      "Epoch 44/50\n",
      " - 88s - loss: 0.0262 - val_loss: 0.0290\n",
      "Epoch 45/50\n",
      " - 88s - loss: 0.0321 - val_loss: 0.0284\n",
      "Epoch 46/50\n",
      " - 88s - loss: 0.0311 - val_loss: 0.0295\n",
      "Epoch 47/50\n",
      " - 88s - loss: 0.0283 - val_loss: 0.0265\n",
      "Epoch 48/50\n",
      " - 88s - loss: 0.0289 - val_loss: 0.0317\n",
      "Epoch 49/50\n",
      " - 88s - loss: 0.0266 - val_loss: 0.0254\n",
      "Epoch 50/50\n",
      " - 88s - loss: 0.0281 - val_loss: 0.0252\n"
     ]
    }
   ],
   "source": [
    "history = model.fit(X_train, y_train, epochs=50, batch_size=32,verbose=2, shuffle=False,validation_data=(X_test,y_test),callbacks=[checkpoint_callback,early_checkpoints])"
   ]
  },
  {
   "cell_type": "code",
   "execution_count": null,
   "metadata": {},
   "outputs": [],
   "source": [
    "#"
   ]
  },
  {
   "cell_type": "code",
   "execution_count": 0,
   "metadata": {
    "colab": {},
    "colab_type": "code",
    "id": "IK1qmOUydPRP"
   },
   "outputs": [],
   "source": [
    " model.save(\"/content/drive/My Drive/Colab Notebooks/Temp_analysis/temp_analysis_new5.h5\")"
   ]
  },
  {
   "cell_type": "markdown",
   "metadata": {},
   "source": [
    "# Visualization of losses"
   ]
  },
  {
   "cell_type": "code",
   "execution_count": 35,
   "metadata": {
    "colab": {
     "base_uri": "https://localhost:8080/",
     "height": 621
    },
    "colab_type": "code",
    "id": "VBY9K6YkVDwM",
    "outputId": "5dd0de6f-179d-42eb-a763-04aa6f58d864"
   },
   "outputs": [
    {
     "data": {
      "image/png": "[encoded data removed]",
      "text/plain": [
       "<Figure size 720x720 with 1 Axes>"
      ]
     },
     "metadata": {
      "tags": []
     },
     "output_type": "display_data"
    }
   ],
   "source": [
    "plt.figure(figsize=(10,10))\n",
    "plt.plot(history.history['loss'])\n",
    "plt.plot(history.history['val_loss'])\n",
    "plt.title('model loss')\n",
    "plt.ylabel('loss')\n",
    "plt.xlabel('epoch')\n",
    "plt.legend(['train', 'test'], loc='upper right')\n",
    "plt.show()"
   ]
  },
  {
   "cell_type": "code",
   "execution_count": 0,
   "metadata": {
    "colab": {
     "base_uri": "https://localhost:8080/",
     "height": 574
    },
    "colab_type": "code",
    "id": "dURiTr84iDai",
    "outputId": "87250a93-1e36-4da3-c7fd-7ce36ba56d6d"
   },
   "outputs": [
    {
     "name": "stdout",
     "output_type": "stream",
     "text": [
      "WARNING:tensorflow:From /usr/local/lib/python3.6/dist-packages/keras/backend/tensorflow_backend.py:66: The name tf.get_default_graph is deprecated. Please use tf.compat.v1.get_default_graph instead.\n",
      "\n",
      "WARNING:tensorflow:From /usr/local/lib/python3.6/dist-packages/keras/backend/tensorflow_backend.py:541: The name tf.placeholder is deprecated. Please use tf.compat.v1.placeholder instead.\n",
      "\n",
      "WARNING:tensorflow:From /usr/local/lib/python3.6/dist-packages/keras/backend/tensorflow_backend.py:4432: The name tf.random_uniform is deprecated. Please use tf.random.uniform instead.\n",
      "\n",
      "WARNING:tensorflow:From /usr/local/lib/python3.6/dist-packages/keras/backend/tensorflow_backend.py:148: The name tf.placeholder_with_default is deprecated. Please use tf.compat.v1.placeholder_with_default instead.\n",
      "\n",
      "WARNING:tensorflow:From /usr/local/lib/python3.6/dist-packages/keras/backend/tensorflow_backend.py:3733: calling dropout (from tensorflow.python.ops.nn_ops) with keep_prob is deprecated and will be removed in a future version.\n",
      "Instructions for updating:\n",
      "Please use `rate` instead of `keep_prob`. Rate should be set to `rate = 1 - keep_prob`.\n",
      "WARNING:tensorflow:From /usr/local/lib/python3.6/dist-packages/keras/backend/tensorflow_backend.py:190: The name tf.get_default_session is deprecated. Please use tf.compat.v1.get_default_session instead.\n",
      "\n",
      "WARNING:tensorflow:From /usr/local/lib/python3.6/dist-packages/keras/backend/tensorflow_backend.py:197: The name tf.ConfigProto is deprecated. Please use tf.compat.v1.ConfigProto instead.\n",
      "\n",
      "WARNING:tensorflow:From /usr/local/lib/python3.6/dist-packages/keras/backend/tensorflow_backend.py:203: The name tf.Session is deprecated. Please use tf.compat.v1.Session instead.\n",
      "\n",
      "WARNING:tensorflow:From /usr/local/lib/python3.6/dist-packages/keras/backend/tensorflow_backend.py:207: The name tf.global_variables is deprecated. Please use tf.compat.v1.global_variables instead.\n",
      "\n",
      "WARNING:tensorflow:From /usr/local/lib/python3.6/dist-packages/keras/backend/tensorflow_backend.py:216: The name tf.is_variable_initialized is deprecated. Please use tf.compat.v1.is_variable_initialized instead.\n",
      "\n",
      "WARNING:tensorflow:From /usr/local/lib/python3.6/dist-packages/keras/backend/tensorflow_backend.py:223: The name tf.variables_initializer is deprecated. Please use tf.compat.v1.variables_initializer instead.\n",
      "\n",
      "WARNING:tensorflow:From /usr/local/lib/python3.6/dist-packages/keras/optimizers.py:793: The name tf.train.Optimizer is deprecated. Please use tf.compat.v1.train.Optimizer instead.\n",
      "\n",
      "WARNING:tensorflow:From /usr/local/lib/python3.6/dist-packages/tensorflow_core/python/ops/math_grad.py:1424: where (from tensorflow.python.ops.array_ops) is deprecated and will be removed in a future version.\n",
      "Instructions for updating:\n",
      "Use tf.where in 2.0, which has the same broadcast rule as np.where\n",
      "WARNING:tensorflow:From /usr/local/lib/python3.6/dist-packages/keras/backend/tensorflow_backend.py:1033: The name tf.assign_add is deprecated. Please use tf.compat.v1.assign_add instead.\n",
      "\n",
      "WARNING:tensorflow:From /usr/local/lib/python3.6/dist-packages/keras/backend/tensorflow_backend.py:1020: The name tf.assign is deprecated. Please use tf.compat.v1.assign instead.\n",
      "\n"
     ]
    }
   ],
   "source": [
    "checking_model=keras.models.load_model(\"/content/drive/My Drive/Colab Notebooks/Temp_analysis/temp_analysis_new3.h5\")"
   ]
  },
  {
   "cell_type": "markdown",
   "metadata": {},
   "source": [
    "# Predicted values"
   ]
  },
  {
   "cell_type": "code",
   "execution_count": 0,
   "metadata": {
    "colab": {},
    "colab_type": "code",
    "id": "rDiM9RPifuwm"
   },
   "outputs": [],
   "source": [
    "chec=model.predict(X_test)"
   ]
  },
  {
   "cell_type": "code",
   "execution_count": 0,
   "metadata": {
    "colab": {},
    "colab_type": "code",
    "id": "pshOJKZDgjHi"
   },
   "outputs": [],
   "source": [
    "from sklearn.metrics import mean_squared_error\n",
    "mse = mean_squared_error(chec,y_test)"
   ]
  },
  {
   "cell_type": "markdown",
   "metadata": {},
   "source": [
    "# Mean Square Error"
   ]
  },
  {
   "cell_type": "code",
   "execution_count": 30,
   "metadata": {
    "colab": {
     "base_uri": "https://localhost:8080/",
     "height": 34
    },
    "colab_type": "code",
    "id": "MjVZwkoDhlbR",
    "outputId": "03bc4763-ae6d-450d-ed17-0a84da98da18"
   },
   "outputs": [
    {
     "data": {
      "text/plain": [
       "0.025204738084844556"
      ]
     },
     "execution_count": 30,
     "metadata": {
      "tags": []
     },
     "output_type": "execute_result"
    }
   ],
   "source": [
    "mse"
   ]
  },
  {
   "cell_type": "markdown",
   "metadata": {},
   "source": [
    "# Converting normalize values into original form"
   ]
  },
  {
   "cell_type": "code",
   "execution_count": 36,
   "metadata": {
    "colab": {
     "base_uri": "https://localhost:8080/",
     "height": 134
    },
    "colab_type": "code",
    "id": "Mv7xKhsHhpJj",
    "outputId": "fb07a861-37a8-4ada-f6b3-72a21d0b248c"
   },
   "outputs": [
    {
     "data": {
      "text/plain": [
       "array([[32.59328 ],\n",
       "       [35.931828],\n",
       "       [36.69421 ],\n",
       "       ...,\n",
       "       [15.789156],\n",
       "       [34.87705 ],\n",
       "       [28.554354]], dtype=float32)"
      ]
     },
     "execution_count": 36,
     "metadata": {
      "tags": []
     },
     "output_type": "execute_result"
    }
   ],
   "source": [
    "st.inverse_transform(chec)\n",
    "st.inverse_transform(y_test)"
   ]
  },
  {
   "cell_type": "markdown",
   "metadata": {
    "colab": {},
    "colab_type": "code",
    "id": "eMZ9o7moZSFI"
   },
   "source": [
    "# Method for preprocessing the data  before testing"
   ]
  },
  {
   "cell_type": "code",
   "execution_count": 73,
   "metadata": {
    "colab": {},
    "colab_type": "code",
    "id": "4EMVT9cgVoaX"
   },
   "outputs": [],
   "source": [
    "def datapreprocessing(data):\n",
    "    data['time']=pd.to_datetime(data['datetime_utc']) #converting the date column into date time format\n",
    "    data.drop(\"datetime_utc\",inplace=True,axis=1) #drop the old date-time-column\n",
    "    data.set_index('time',inplace=True) #setting date-time-column as index of the dataset\n",
    "    data.drop([\" _wgustm\",\" _precipm\"],axis=1,inplace=True) #dropping all unnecessary columns\n",
    "    data.drop([' _windchillm'],axis=1,inplace=True)\n",
    "    data.drop([\" _heatindexm\"],axis=1,inplace=True)\n",
    "    data=data[data[\" _conds\"]!=\"Unknown\"]\n",
    "    std=StandardScaler()\n",
    "    data.fillna(0,inplace=True)\n",
    "    condition=pd.get_dummies(data[' _conds']) #doing one hot encoding here\n",
    "    wind_dir=pd.get_dummies(data[' _wdire'])\n",
    "    condition.drop('Widespread Dust',axis=1,inplace=True)\n",
    "    wind_dir.drop('West',axis=1,inplace=True)\n",
    "    data=pd.concat([data,condition],axis='columns')\n",
    "    data=pd.concat([data,wind_dir],axis='columns')\n",
    "    data.drop(' _conds',inplace=True,axis=1)\n",
    "    data.drop(' _wdire',inplace=True,axis=1)\n",
    "    final_x=std.fit_transform(data)#standar scaling of the data\n",
    "    X=np.reshape(final_x,(final_x.shape[0],final_x.shape[1],1))\n",
    "    return X\n",
    "\n"
   ]
  }
 ],
 "metadata": {
  "colab": {
   "name": "assignment.ipynb",
   "provenance": []
  },
  "kernelspec": {
   "display_name": "Python 3",
   "language": "python",
   "name": "python3"
  },
  "language_info": {
   "codemirror_mode": {
    "name": "ipython",
    "version": 3
   },
   "file_extension": ".py",
   "mimetype": "text/x-python",
   "name": "python",
   "nbconvert_exporter": "python",
   "pygments_lexer": "ipython3",
   "version": "3.6.5"
  }
 },
 "nbformat": 4,
 "nbformat_minor": 1
}
